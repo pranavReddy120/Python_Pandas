{
 "cells": [
  {
   "cell_type": "code",
   "execution_count": 13,
   "metadata": {},
   "outputs": [],
   "source": [
    "import csv \n",
    "from pathlib import Path"
   ]
  },
  {
   "cell_type": "code",
   "execution_count": 14,
   "metadata": {},
   "outputs": [],
   "source": [
    "future_value = 0\n",
    "remaining_months = 0 \n",
    "discount_rate = 0.2\n",
    "inexpensive_loans = []\n",
    "file_export = Path(\"../Loan_Analysis/inexpensive_loans.csv\")"
   ]
  },
  {
   "cell_type": "code",
   "execution_count": 15,
   "metadata": {},
   "outputs": [
    {
     "name": "stdout",
     "output_type": "stream",
     "text": [
      "5 loans\n",
      "Total loans: 2750\n",
      "Average: 550\n"
     ]
    }
   ],
   "source": [
    "loan_costs = [500, 600, 200, 1000, 450]\n",
    "print(len(loan_costs), \"loans\")\n",
    "print(\"Total loans:\",sum(loan_costs))\n",
    "print(\"Average:\",(int(sum(loan_costs)/len(loan_costs)))) \n",
    "\n"
   ]
  },
  {
   "cell_type": "code",
   "execution_count": 16,
   "metadata": {},
   "outputs": [
    {
     "name": "stdout",
     "output_type": "stream",
     "text": [
      "1000\n",
      "9\n"
     ]
    }
   ],
   "source": [
    "loan = {\n",
    "    \"loan_price\": 500,\n",
    "    \"remaining_months\": 9,\n",
    "    \"repayment_interval\": \"bullet\",\n",
    "    \"future_value\": 1000,\n",
    "}\n",
    "\n",
    "future_value = loan.get(\"future_value\")\n",
    "remaining_months = loan.get(\"remaining_months\")\n",
    "print(future_value)\n",
    "print(remaining_months)"
   ]
  },
  {
   "cell_type": "code",
   "execution_count": 17,
   "metadata": {},
   "outputs": [
    {
     "name": "stdout",
     "output_type": "stream",
     "text": [
      "861.7727126032183\n",
      "The loan is worth the cost\n"
     ]
    }
   ],
   "source": [
    "present_value = future_value / (1 + discount_rate/12) ** remaining_months\n",
    "print(present_value)\n",
    "\n",
    "if present_value >= loan.get(\"loan_price\"): \n",
    "    print(\"The loan is worth the cost\")\n",
    "else: \n",
    "    print(\"The loan is too expensive!\")"
   ]
  },
  {
   "cell_type": "code",
   "execution_count": 18,
   "metadata": {},
   "outputs": [],
   "source": [
    "def present_calc(future, remaining, discount): \n",
    "    present_value = round((future / (1 + discount/12) ** remaining))\n",
    "    return(present_value)"
   ]
  },
  {
   "cell_type": "code",
   "execution_count": 19,
   "metadata": {},
   "outputs": [],
   "source": [
    "new_loan = {\n",
    "    \"loan_price\": 800,\n",
    "    \"remaining_months\": 12,\n",
    "    \"repayment_interval\": \"bullet\",\n",
    "    \"future_value\": 1000,\n",
    "}"
   ]
  },
  {
   "cell_type": "code",
   "execution_count": 20,
   "metadata": {},
   "outputs": [
    {
     "data": {
      "text/plain": [
       "820"
      ]
     },
     "execution_count": 20,
     "metadata": {},
     "output_type": "execute_result"
    }
   ],
   "source": [
    "present_calc(new_loan.get(\"future_value\"),new_loan.get(\"remaining_months\"),discount_rate)"
   ]
  },
  {
   "cell_type": "code",
   "execution_count": 21,
   "metadata": {},
   "outputs": [],
   "source": [
    "loans = [\n",
    "    {\n",
    "        \"loan_price\": 700,\n",
    "        \"remaining_months\": 9,\n",
    "        \"repayment_interval\": \"monthly\",\n",
    "        \"future_value\": 1000,\n",
    "    },\n",
    "    {\n",
    "        \"loan_price\": 500,\n",
    "        \"remaining_months\": 13,\n",
    "        \"repayment_interval\": \"bullet\",\n",
    "        \"future_value\": 1000,\n",
    "    },\n",
    "    {\n",
    "        \"loan_price\": 200,\n",
    "        \"remaining_months\": 16,\n",
    "        \"repayment_interval\": \"bullet\",\n",
    "        \"future_value\": 1000,\n",
    "    },\n",
    "    {\n",
    "        \"loan_price\": 900,\n",
    "        \"remaining_months\": 16,\n",
    "        \"repayment_interval\": \"bullet\",\n",
    "        \"future_value\": 1000,\n",
    "    },\n",
    "    \n",
    "]"
   ]
  },
  {
   "cell_type": "code",
   "execution_count": 22,
   "metadata": {},
   "outputs": [],
   "source": [
    "for loan in loans: \n",
    "    price = loan.get(\"loan_price\") \n",
    "    if price <= 500: \n",
    "        inexpensive_loans.append(loan)\n",
    "\n"
   ]
  },
  {
   "cell_type": "code",
   "execution_count": 23,
   "metadata": {},
   "outputs": [
    {
     "data": {
      "text/plain": [
       "[{'loan_price': 500,\n",
       "  'remaining_months': 13,\n",
       "  'repayment_interval': 'bullet',\n",
       "  'future_value': 1000},\n",
       " {'loan_price': 200,\n",
       "  'remaining_months': 16,\n",
       "  'repayment_interval': 'bullet',\n",
       "  'future_value': 1000}]"
      ]
     },
     "execution_count": 23,
     "metadata": {},
     "output_type": "execute_result"
    }
   ],
   "source": [
    "inexpensive_loans"
   ]
  },
  {
   "cell_type": "code",
   "execution_count": 24,
   "metadata": {},
   "outputs": [],
   "source": [
    "header = [\"loan_price\", \"remaining_months\", \"repayment_interval\", \"future_value\"] \n",
    "with open(file_export,\"w\") as csvfile: \n",
    "    csvwriter = csv.writer(csvfile)\n",
    "    csvwriter.writerow(header)\n",
    "    \n",
    "    for item in inexpensive_loans: \n",
    "        csvwriter.writerow(item.values())\n",
    "\n",
    "    #Alternate ways of writing the outputs in the csv file \n",
    "\n",
    "    # for item in header:\n",
    "    #     writing.write(f\"{item}\")\n",
    "    #     writing.write(f\",\")\n",
    "        \n",
    "    # for item in inexpensive_loans: \n",
    "    #     writing.write(f\"\\n\")\n",
    "    #     for i in item: \n",
    "    #         writing.write(f\"{item[i]}\")\n",
    "    #         writing.write(f\",\")\n",
    "        "
   ]
  }
 ],
 "metadata": {
  "kernelspec": {
   "display_name": "Python 3.9.17 ('dev')",
   "language": "python",
   "name": "python3"
  },
  "language_info": {
   "codemirror_mode": {
    "name": "ipython",
    "version": 3
   },
   "file_extension": ".py",
   "mimetype": "text/x-python",
   "name": "python",
   "nbconvert_exporter": "python",
   "pygments_lexer": "ipython3",
   "version": "3.9.17"
  },
  "orig_nbformat": 4,
  "vscode": {
   "interpreter": {
    "hash": "caeb93e0c684d3bd81d88b6578a6aeba546c7425658c4217d79fa0d92d9f2865"
   }
  }
 },
 "nbformat": 4,
 "nbformat_minor": 2
}
