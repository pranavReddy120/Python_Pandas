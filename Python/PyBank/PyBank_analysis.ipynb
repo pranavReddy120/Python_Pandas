{
 "cells": [
  {
   "cell_type": "code",
   "execution_count": 176,
   "metadata": {},
   "outputs": [],
   "source": [
    "import csv \n",
    "from pathlib import Path "
   ]
  },
  {
   "cell_type": "code",
   "execution_count": 177,
   "metadata": {},
   "outputs": [],
   "source": [
    "file_import = Path(\"../PyBank/Resources/budget_data.csv\")\n",
    "file_export = Path(\"../PyBank/PyBank_output.csv\")"
   ]
  },
  {
   "cell_type": "code",
   "execution_count": 178,
   "metadata": {},
   "outputs": [],
   "source": [
    "month_total = 0  \n",
    "net_total = 0 \n",
    "month_change = []\n",
    "net_change = []\n",
    "greatest_profit = [\"\", 0]\n",
    "greatest_loss = [\"\", 0]\n"
   ]
  },
  {
   "cell_type": "code",
   "execution_count": 179,
   "metadata": {},
   "outputs": [],
   "source": [
    "with open(file_import) as data:\n",
    "    reader = csv.reader(data) #reading the data from the path described in file_import\n",
    "\n",
    "    header = next(reader) #sets the header to the first line it reads\n",
    "    first_row = next(reader)\n",
    "    month_total += 1 \n",
    "    net_total += int(first_row[1])\n",
    "    prev = int(first_row[1])\n",
    "    \n",
    "\n",
    "    for row in reader: \n",
    "        #counts total months and net profit\n",
    "        month_total += 1\n",
    "        net_total += int(row[1])\n",
    "\n",
    "        #counts change in profit/loss\n",
    "        change = int(row[1]) - prev\n",
    "        prev = int(row[1])\n",
    "        # net_change.append(change) \n",
    "        net_change += [change] #this is another form of appending to a list\n",
    "\n",
    "        #calculates the greatest profit and loss\n",
    "        if change > greatest_profit[1]: \n",
    "            greatest_profit[0] = row[0]\n",
    "            greatest_profit[1] = change\n",
    "\n",
    "        if change < greatest_loss[1]: \n",
    "            greatest_loss[0] = row[0]\n",
    "            greatest_loss[1] = change\n",
    "\n",
    "\n",
    "    \n",
    "    #calculates the average net change\n",
    "    total_profit = sum(net_change)\n",
    "    avg = int(total_profit/(month_total-1))\n",
    "   \n",
    "\n",
    "   \n"
   ]
  },
  {
   "cell_type": "code",
   "execution_count": 180,
   "metadata": {},
   "outputs": [],
   "source": [
    "with open(file_export,\"w\") as writing: \n",
    "    writing.write(f\"Financial Analysis\")\n",
    "    writing.write(f\"\\nTotal months: {month_total}\")\n",
    "    writing.write(f\"\\nNet total: {net_total}\")\n",
    "    writing.write(f\"\\nTotal profit/loss: {total_profit}\")\n",
    "    writing.write(f\"\\nAverage net change: {avg}\")\n",
    "    writing.write(f\"\\nGreatest profit of: {greatest_profit[1]} in {greatest_profit[0]}\")\n",
    "    writing.write(f\"\\nGreatest loss of: {greatest_loss[1]} in {greatest_loss[0]}\")\n"
   ]
  }
 ],
 "metadata": {
  "kernelspec": {
   "display_name": "Python 3.9.6 64-bit",
   "language": "python",
   "name": "python3"
  },
  "language_info": {
   "codemirror_mode": {
    "name": "ipython",
    "version": 3
   },
   "file_extension": ".py",
   "mimetype": "text/x-python",
   "name": "python",
   "nbconvert_exporter": "python",
   "pygments_lexer": "ipython3",
   "version": "3.9.6"
  },
  "orig_nbformat": 4,
  "vscode": {
   "interpreter": {
    "hash": "31f2aee4e71d21fbe5cf8b01ff0e069b9275f58929596ceb00d14d90e3e16cd6"
   }
  }
 },
 "nbformat": 4,
 "nbformat_minor": 2
}
