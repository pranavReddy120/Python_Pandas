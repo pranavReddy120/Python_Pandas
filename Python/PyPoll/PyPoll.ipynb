{
 "cells": [
  {
   "cell_type": "code",
   "execution_count": 6,
   "metadata": {},
   "outputs": [],
   "source": [
    "import csv \n",
    "from pathlib import Path\n",
    "from collections import Counter "
   ]
  },
  {
   "cell_type": "code",
   "execution_count": 7,
   "metadata": {},
   "outputs": [],
   "source": [
    "file_import = Path(\"../PyPoll_Code/Data/election_data_copy.csv\")\n",
    "file_export = Path(\"../PyPoll_Code/Data/data_output.csv\")"
   ]
  },
  {
   "cell_type": "code",
   "execution_count": 8,
   "metadata": {},
   "outputs": [],
   "source": [
    "vote_total = 0 \n",
    "candidate_name = []\n",
    "candidate_votes = []\n",
    "percent_votes = []\n",
    "win_num = 0 \n",
    "i = 0\n",
    "j = 0"
   ]
  },
  {
   "cell_type": "code",
   "execution_count": 9,
   "metadata": {},
   "outputs": [],
   "source": [
    "with open(file_import, \"r\") as data: \n",
    "    reader = csv.reader(data)\n",
    "    header = next(reader)\n",
    "\n",
    "    for row in reader: \n",
    "        vote_total+=1 \n",
    "        name = row[2]\n",
    "        candidate_name.append(name) \n",
    "\n",
    "    filtered_name = list(set(candidate_name))\n",
    "    counts = Counter(candidate_name) \n",
    "    for row in filtered_name: \n",
    "        candidate_votes.append(counts[filtered_name[i]])\n",
    "        percent_votes.append(round(float((counts[filtered_name[i]]/vote_total)*100),3))\n",
    "        i+=1\n",
    "    "
   ]
  },
  {
   "cell_type": "code",
   "execution_count": 10,
   "metadata": {},
   "outputs": [],
   "source": [
    "for num in candidate_votes: \n",
    "    if num > win_num: \n",
    "        win_num = num"
   ]
  },
  {
   "cell_type": "code",
   "execution_count": 11,
   "metadata": {},
   "outputs": [],
   "source": [
    "with open(file_export,\"w\") as writing: \n",
    "    writing.write(f\"PyPoll Analysis\")\n",
    "    writing.write(f\"\\nTotal votes: {vote_total}\")\n",
    "    for row in filtered_name: \n",
    "        writing.write(f\"\\n{filtered_name[j]}: {percent_votes[j]}% ({candidate_votes[j]})\")\n",
    "        j+=1 \n",
    "    writing.write(f\"\\nWinner: {filtered_name[candidate_votes.index(win_num)]}\")"
   ]
  }
 ],
 "metadata": {
  "kernelspec": {
   "display_name": "Python 3.9.6 64-bit",
   "language": "python",
   "name": "python3"
  },
  "language_info": {
   "codemirror_mode": {
    "name": "ipython",
    "version": 3
   },
   "file_extension": ".py",
   "mimetype": "text/x-python",
   "name": "python",
   "nbconvert_exporter": "python",
   "pygments_lexer": "ipython3",
   "version": "3.9.6"
  },
  "orig_nbformat": 4,
  "vscode": {
   "interpreter": {
    "hash": "31f2aee4e71d21fbe5cf8b01ff0e069b9275f58929596ceb00d14d90e3e16cd6"
   }
  }
 },
 "nbformat": 4,
 "nbformat_minor": 2
}
